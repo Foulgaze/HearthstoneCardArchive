{
 "cells": [
  {
   "cell_type": "code",
   "execution_count": 29,
   "metadata": {},
   "outputs": [],
   "source": [
    "import json\n",
    "import requests\n",
    "import re"
   ]
  },
  {
   "cell_type": "code",
   "execution_count": null,
   "metadata": {},
   "outputs": [],
   "source": [
    "def find_url_by_pattern(page_text, pattern):\n",
    "    match = re.search(pattern, page_text)\n",
    "    return match.group(0) if match else None\n",
    "\n",
    "def compile_regex_for_action(action_type):\n",
    "    # base_url_pattern = f\"https://hearthstone\\.wiki\\.gg.*?_{action_type}_[0-9][0-9]\\.wav\"\n",
    "    base_url_pattern = f\"https://hearthstone\\.wiki\\.gg.*?{action_type}.*?\\.wav\"\n",
    "    return re.compile(base_url_pattern)\n",
    "\n",
    "\n",
    "def find_urls_from_page(page_text):\n",
    "    action_types = ['Play', 'Attack', 'Death']\n",
    "    results = {}\n",
    "\n",
    "    for action in action_types:\n",
    "        pattern = compile_regex_for_action(action)\n",
    "        url = find_url_by_pattern(page_text, pattern)\n",
    "        if url:\n",
    "            results[action.lower()] = url\n",
    "\n",
    "    return results if len(results) == len(action_types) else []"
   ]
  },
  {
   "cell_type": "code",
   "execution_count": 31,
   "metadata": {},
   "outputs": [
    {
     "name": "stdout",
     "output_type": "stream",
     "text": [
      "0\n",
      "500\n",
      "1000\n",
      "1500\n",
      "2000\n",
      "2500\n",
      "3000\n",
      "3500\n",
      "4000\n",
      "4500\n",
      "5000\n"
     ]
    },
    {
     "data": {
      "text/plain": [
       "3469081"
      ]
     },
     "execution_count": 31,
     "metadata": {},
     "output_type": "execute_result"
    }
   ],
   "source": [
    "all_cards = json.loads(open(\"all_cards.json\", \"r\").read())\n",
    "missed_cards = []\n",
    "voicelines = []\n",
    "for i,key in enumerate(all_cards):\n",
    "\tcard_data = all_cards[key]\n",
    "\tif card_data[\"cardTypeId\"] == 4:\n",
    "\t\tcard_name = card_data[\"name\"]\n",
    "\t\tcard_name = card_name.replace(\" \", \"_\").replace('’', \"'\")\n",
    "\t\tcard_page_url = f\"https://hearthstone.wiki.gg/wiki/{card_name}\"\n",
    "\t\ttry:\n",
    "\t\t\tpage_text = open(f\"HTMLPages/{card_name}.html\").read()\n",
    "\t\t\tvoicelines = find_urls_from_page(page_text)\n",
    "\t\t\tcard_data[\"voicelines\"] = voicelines\n",
    "\t\texcept:\n",
    "\t\t\tmissed_cards.append(key)\n",
    "\tif i % 500 == 0:\n",
    "\t\tprint(i)\n",
    "outfile = open(\"out.json\", \"w\")\n",
    "outfile.write(json.dumps(all_cards, indent=4))"
   ]
  },
  {
   "cell_type": "code",
   "execution_count": null,
   "metadata": {},
   "outputs": [],
   "source": [
    "all_cards = json.loads(open(\"out.json\", \"r\").read())\n",
    "missed_cards = []\n",
    "voicelines = []\n",
    "for i,key in enumerate(all_cards):\n",
    "\tcard_data = all_cards[key]\n",
    "\tif card_data[\"cardTypeId\"] == 4 and len(card_data[\"voicelines\"]) == 0:\n",
    "\t\tcard_name = card_data[\"name\"]\n",
    "\t\tcard_name = card_name.replace(\" \", \"_\").replace('’', \"'\")\n",
    "\t\tcard_page_url = f\"https://hearthstone.wiki.gg/wiki/{card_name}\"\n",
    "\t\ttry:\n",
    "\t\t\tpage_text = open(f\"HTMLPages/{card_name}.html\").read()\n",
    "\t\t\tvoicelines = find_urls_from_page(page_text)\n",
    "\t\t\tcard_data[\"voicelines\"] = voicelines\n",
    "\t\texcept:\n",
    "\t\t\tmissed_cards.append(key)\n",
    "\tif i % 500 == 0:\n",
    "\t\tprint(i)\n",
    "outfile = open(\"out.json\", \"w\")\n",
    "outfile.write(json.dumps(all_cards, indent=4))"
   ]
  },
  {
   "cell_type": "code",
   "execution_count": 33,
   "metadata": {},
   "outputs": [
    {
     "name": "stdout",
     "output_type": "stream",
     "text": [
      "5001\n"
     ]
    }
   ],
   "source": [
    "# all_cards = json.loads(open(\"all_cards.json\").read())\n",
    "# missed_cards = []\n",
    "# not_enough_cards = []\n",
    "# voicelines = []\n",
    "# for i,key in enumerate(all_cards):\n",
    "# \tcard_data = all_cards[key]\n",
    "# \tif card_data[\"cardTypeId\"] == 4:\n",
    "# \t\tcard_name = card_data[\"name\"]\n",
    "# \t\tcard_name = card_name.replace(\" \", \"_\").replace('’', \"'\")\n",
    "# \t\tcard_page_url = f\"https://hearthstone.wiki.gg/wiki/{card_name}\"\n",
    "# \t\trequest = requests.get(card_page_url)\n",
    "# \t\tif request.status_code != 200:\n",
    "# \t\t\tmissed_cards.append(key)\n",
    "# \t\telse:\n",
    "# \t\t\tsound_effect_urls = find_urls_from_page(request.text)\n",
    "# \t\t\tif len(sound_effect_urls) == 0:\n",
    "# \t\t\t\tout = open(f\"HTMLPages/{card_name}.html\", \"w\")\n",
    "# \t\t\t\tout.write(request.text)\n",
    "# \t\t\t\tnot_enough_cards.append(card_name)\n",
    "# \t\t\t\tcontinue\n",
    "# \t\t\tvoicelines.append(sound_effect_urls)\n",
    "# \t\t\tcard_data[\"voicelines\"] = sound_effect_urls\n",
    "# \tif i % 500 == 0:\n",
    "# \t\tprint(i)\n",
    "# output = open(\"outfile.json\", \"w\")\n",
    "# output.write(json.dumps(all_cards, indent=4))\n",
    "\n",
    "print(len(all_cards))"
   ]
  }
 ],
 "metadata": {
  "kernelspec": {
   "display_name": "Python 3",
   "language": "python",
   "name": "python3"
  },
  "language_info": {
   "codemirror_mode": {
    "name": "ipython",
    "version": 3
   },
   "file_extension": ".py",
   "mimetype": "text/x-python",
   "name": "python",
   "nbconvert_exporter": "python",
   "pygments_lexer": "ipython3",
   "version": "3.8.10"
  }
 },
 "nbformat": 4,
 "nbformat_minor": 2
}
