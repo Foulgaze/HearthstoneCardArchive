{
 "cells": [
  {
   "cell_type": "code",
   "execution_count": 21,
   "metadata": {},
   "outputs": [],
   "source": [
    "import json\n",
    "import random"
   ]
  },
  {
   "cell_type": "code",
   "execution_count": 22,
   "metadata": {},
   "outputs": [],
   "source": [
    "# Some cards are missing the cardSetId, I believe because they are original cards that were never put into legacy/classic/core\n",
    "def fix_missing_set_id(all_cards_json):\n",
    "\tfor card_name in all_cards_json:\n",
    "\t\t\tcard_data = all_cards_json[card_name]\n",
    "\t\t\tif \"cardSetId\" not in card_data:\n",
    "\t\t\t\tcard_data[\"cardSetId\"] = 1635\n",
    "\t\t\t\tcontinue"
   ]
  },
  {
   "cell_type": "code",
   "execution_count": 23,
   "metadata": {},
   "outputs": [],
   "source": [
    "def change_rarity_order(all_cards_json):\n",
    "\tfor card_name in all_cards_json:\n",
    "\t\tcard_data = all_cards_json[card_name]\n",
    "\t\t#Swaps the position of Common (1) and Free (2)\n",
    "\t\tif card_data[\"rarityId\"] == 2: \n",
    "\t\t\tcard_data[\"rarityId\"] = 1\n",
    "\t\telif card_data[\"rarityId\"] == 1:\n",
    "\t\t\tcard_data[\"rarityId\"] = 2"
   ]
  },
  {
   "cell_type": "code",
   "execution_count": 24,
   "metadata": {},
   "outputs": [],
   "source": [
    "# Swaps free and common\n",
    "def change_rarity_conversions(conversion_data_json):\n",
    "\tconversion_data_json[\"rarityId\"][\"1\"] = \"Free\"\n",
    "\tconversion_data_json[\"rarityId\"][\"2\"] = \"Common\""
   ]
  },
  {
   "cell_type": "code",
   "execution_count": 25,
   "metadata": {},
   "outputs": [],
   "source": [
    "def setup_set_name(conversion_data_json):\n",
    "\tconversion_data_json[\"cardSetId\"] = conversion_data_json[\"sets\"]\n",
    "\tdel conversion_data_json[\"sets\"]"
   ]
  },
  {
   "cell_type": "code",
   "execution_count": 26,
   "metadata": {},
   "outputs": [],
   "source": [
    "def remove_unncessary_headers(columnHeaders, all_cards_json):\n",
    "\toutput_dict = {}\n",
    "\tall_card_names = list(all_cards_json.keys())\n",
    "\trandom.shuffle(all_card_names)\n",
    "\tcollectible = set()\n",
    "\tfor key in all_card_names:\n",
    "\t\tcard_data = all_cards_json[key]\n",
    "\t\tname = card_data[\"name\"].upper()\n",
    "\t\toutput_dict[name] = {}\n",
    "\t\tkeys = card_data.keys()\n",
    "\t\tfor header in columnHeaders:\n",
    "\t\t\tif header in keys:\n",
    "\t\t\t\tif header == \"cardSetId\" and card_data[header] == 3:\n",
    "\t\t\t\t\tcard_data[header] = 1635\n",
    "\t\t\t\telse:\n",
    "\t\t\t\t\toutput_dict[name][header] = card_data[header]\n",
    "\treturn output_dict"
   ]
  },
  {
   "cell_type": "code",
   "execution_count": 27,
   "metadata": {},
   "outputs": [
    {
     "data": {
      "text/plain": [
       "4815"
      ]
     },
     "execution_count": 27,
     "metadata": {},
     "output_type": "execute_result"
    }
   ],
   "source": [
    "all_cards_unfiltered = json.loads(open(\"all_cards.txt\", \"r\").read())\n",
    "conversion_data = json.loads(open(\"id_conversions.json\", \"r\").read())\n",
    "fields = [\n",
    "    \"id\",\n",
    "    \"collectible\",\n",
    "    \"classId\",\n",
    "    \"multiClassIds\",\n",
    "    \"spellSchoolId\",\n",
    "    \"cardTypeId\",\n",
    "    \"cardSetId\",\n",
    "    \"rarityId\",\n",
    "    \"manaCost\",\n",
    "\t\"name\",\n",
    "    \"image\",\n",
    "    \"flavorText\",\n",
    "    \"keywordIds\",\n",
    "]\n",
    "all_cards_filtered = remove_unncessary_headers(fields, all_cards_unfiltered)\n",
    "fix_missing_set_id(all_cards_filtered)\n",
    "change_rarity_order(all_cards_filtered)\n",
    "change_rarity_conversions(conversion_data)\n",
    "setup_set_name(conversion_data)\n",
    "open(\"all_cards.json\", \"w\").write(json.dumps(all_cards_filtered, indent=4))\n",
    "open(\"id_conversions.json\", \"w\").write(json.dumps(conversion_data, indent=4))\n"
   ]
  }
 ],
 "metadata": {
  "kernelspec": {
   "display_name": "Python 3",
   "language": "python",
   "name": "python3"
  },
  "language_info": {
   "codemirror_mode": {
    "name": "ipython",
    "version": 3
   },
   "file_extension": ".py",
   "mimetype": "text/x-python",
   "name": "python",
   "nbconvert_exporter": "python",
   "pygments_lexer": "ipython3",
   "version": "3.8.10"
  }
 },
 "nbformat": 4,
 "nbformat_minor": 2
}
