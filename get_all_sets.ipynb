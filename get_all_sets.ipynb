{
 "cells": [
  {
   "cell_type": "code",
   "execution_count": 7,
   "metadata": {},
   "outputs": [],
   "source": [
    "import json\n",
    "import requests"
   ]
  },
  {
   "cell_type": "code",
   "execution_count": 8,
   "metadata": {},
   "outputs": [],
   "source": [
    "env = json.loads(open(\"env.txt\", \"r\").read())\n",
    "token_url = 'https://oauth.battle.net/token'\n",
    "\n",
    "data = {'grant_type': 'client_credentials'}\n",
    "\n",
    "response = requests.post(token_url, data=data, auth=(env[\"client_identity\"], env[\"client_secret\"]))\n",
    "# conversion_file = open(\"conversions.txt\", \"w\")\n",
    "access_token = response.json().get('access_token')\n"
   ]
  },
  {
   "cell_type": "code",
   "execution_count": 9,
   "metadata": {},
   "outputs": [],
   "source": [
    "# Gets meta data\n",
    "api_url = f\"https://us.api.blizzard.com/hearthstone/metadata/?locale=en_US\"\n",
    "headers = {'Authorization': f'Bearer {access_token}'}\n",
    "with open(\"all_meta_data.json\", \"w\") as outfile:\n",
    "\tresponse = requests.get(api_url, headers=headers)\n",
    "\tresponse_map = {}\n",
    "\tif response.status_code == 200:\n",
    "\t\tresponse_json = response.json()\n",
    "\t\toutfile.write(json.dumps(response_json, indent = 4))\n",
    "\telse:\n",
    "\t\tprint(f\"Error: {response.status_code} - {response.text}\")\n"
   ]
  },
  {
   "cell_type": "code",
   "execution_count": 10,
   "metadata": {},
   "outputs": [],
   "source": [
    "def get_set_data(access_token, set, id):\n",
    "\tcount = 1\n",
    "\tcards_in_set = {}\n",
    "\tcards_in_set[\"id\"] = id\n",
    "\twhile(True):\n",
    "\t\tapi_url = f\"https://us.api.blizzard.com/hearthstone/cards?locale=en_US&set={set}&page={count}\"\n",
    "\t\tcount += 1\n",
    "\t\theaders = {'Authorization': f'Bearer {access_token}'}\n",
    "\n",
    "\t\tresponse = requests.get(api_url, headers=headers)\n",
    "\t\t\n",
    "\t\tif response.status_code == 200:\n",
    "\t\t\tresponse_json = response.json()\n",
    "\t\t\tif(len(response_json[\"cards\"]) == 0):\n",
    "\t\t\t\tbreak\n",
    "\t\t\tfor card_data in response_json[\"cards\"]:\n",
    "\t\t\t\tcards_in_set[card_data[\"id\"]] = card_data\n",
    "\t\telse:\n",
    "\t\t\tprint(f\"Error: {response.status_code} - {response.text}\")\n",
    "\t\t\treturn cards_in_set\n",
    "\treturn cards_in_set"
   ]
  },
  {
   "cell_type": "code",
   "execution_count": 11,
   "metadata": {},
   "outputs": [],
   "source": [
    "data = json.loads(open(\"all_meta_data.json\", \"r\").read())\n",
    "for set_descriptor in data[\"sets\"]:\n",
    "\twith open(f\"SetData/{set_descriptor['name']}.json\", \"w\") as outfile:\n",
    "\t\tjson_data = get_set_data(access_token,set_descriptor[\"slug\"], set_descriptor[\"id\"])\n",
    "\t\toutfile.write(json.dumps(json_data, indent=4))"
   ]
  }
 ],
 "metadata": {
  "kernelspec": {
   "display_name": "Python 3",
   "language": "python",
   "name": "python3"
  },
  "language_info": {
   "codemirror_mode": {
    "name": "ipython",
    "version": 3
   },
   "file_extension": ".py",
   "mimetype": "text/x-python",
   "name": "python",
   "nbconvert_exporter": "python",
   "pygments_lexer": "ipython3",
   "version": "3.8.10"
  }
 },
 "nbformat": 4,
 "nbformat_minor": 2
}
