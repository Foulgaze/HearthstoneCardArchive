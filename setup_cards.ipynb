{
 "cells": [
  {
   "cell_type": "code",
   "execution_count": 16,
   "metadata": {},
   "outputs": [],
   "source": [
    "import json"
   ]
  },
  {
   "cell_type": "code",
   "execution_count": 21,
   "metadata": {},
   "outputs": [
    {
     "name": "stdout",
     "output_type": "stream",
     "text": [
      "[107923, 1, '107923-health-drink', 9, [], 7, 5, 1905, 3, 'Vladimir Kafanov', 3, '\"Health\" Drink', '<b>Lifesteal</b>. Deal 3 damage to a minion. <i>(3 Drinks left!)</i>', 'https://d15f34w2p8l1cc.cloudfront.net/hearthstone/cd810f10539417c0a9ac6d7e990db3fc83e51416e4c2a53379c31f6e26f221a1.png', '', 'Do not exceed recommend daily serving size of 0 grams.', 'https://d15f34w2p8l1cc.cloudfront.net/hearthstone/09302c1aff03424a96be267d4e688eada49f4911f694272bff70c8da93e2fbba.png', [111600, 111601], [38], False, False]\n"
     ]
    },
    {
     "ename": "TypeError",
     "evalue": "sequence item 0: expected str instance, int found",
     "output_type": "error",
     "traceback": [
      "\u001b[0;31m---------------------------------------------------------------------------\u001b[0m",
      "\u001b[0;31mTypeError\u001b[0m                                 Traceback (most recent call last)",
      "Cell \u001b[0;32mIn[21], line 9\u001b[0m\n\u001b[1;32m      7\u001b[0m values \u001b[38;5;241m=\u001b[39m \u001b[38;5;28mlist\u001b[39m(\u001b[38;5;28mlist\u001b[39m(all_cards_dict\u001b[38;5;241m.\u001b[39mvalues())[\u001b[38;5;241m0\u001b[39m]\u001b[38;5;241m.\u001b[39mvalues())\n\u001b[1;32m      8\u001b[0m \u001b[38;5;28mprint\u001b[39m(values)\n\u001b[0;32m----> 9\u001b[0m \u001b[38;5;28mprint\u001b[39m(\u001b[38;5;124;43m\"\u001b[39;49m\u001b[38;5;124;43m,\u001b[39;49m\u001b[38;5;124;43m\"\u001b[39;49m\u001b[38;5;241;43m.\u001b[39;49m\u001b[43mjoin\u001b[49m\u001b[43m(\u001b[49m\u001b[43mvalues\u001b[49m\u001b[43m)\u001b[49m)\n\u001b[1;32m     10\u001b[0m outfile\u001b[38;5;241m.\u001b[39mwrite(\u001b[38;5;124mf\u001b[39m\u001b[38;5;124m'\u001b[39m\u001b[38;5;132;01m{\u001b[39;00m\u001b[38;5;124m\"\u001b[39m\u001b[38;5;124m,\u001b[39m\u001b[38;5;124m\"\u001b[39m\u001b[38;5;241m.\u001b[39mjoin(values)\u001b[38;5;132;01m}\u001b[39;00m\u001b[38;5;130;01m\\n\u001b[39;00m\u001b[38;5;124m'\u001b[39m)\n",
      "\u001b[0;31mTypeError\u001b[0m: sequence item 0: expected str instance, int found"
     ]
    }
   ],
   "source": [
    "all_cards_dict = json.loads(open(\"output.txt\", \"r\").read())\n",
    "outfile = open(\"all_cards.csv\", \"w\")\n",
    "keys = list(list(all_cards_dict.values())[0].keys())\n",
    "\n",
    "# outfile.write(f'{\",\".join(keys)}\\n')\n",
    "# for card_line in all_cards_dict:\n",
    "# \tvalues = list(list(all_cards_dict.values())[0].values())\n",
    "# \tprint(\",\".join(values))\n",
    "# \toutfile.write(f'{\",\".join(values)}\\n')"
   ]
  }
 ],
 "metadata": {
  "kernelspec": {
   "display_name": "Python 3",
   "language": "python",
   "name": "python3"
  },
  "language_info": {
   "codemirror_mode": {
    "name": "ipython",
    "version": 3
   },
   "file_extension": ".py",
   "mimetype": "text/x-python",
   "name": "python",
   "nbconvert_exporter": "python",
   "pygments_lexer": "ipython3",
   "version": "3.8.10"
  }
 },
 "nbformat": 4,
 "nbformat_minor": 2
}
