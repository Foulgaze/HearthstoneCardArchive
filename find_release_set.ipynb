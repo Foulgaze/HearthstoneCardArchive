{
 "cells": [
  {
   "cell_type": "code",
   "execution_count": 29,
   "metadata": {},
   "outputs": [],
   "source": [
    "import json\n",
    "import requests"
   ]
  },
  {
   "cell_type": "code",
   "execution_count": 30,
   "metadata": {},
   "outputs": [],
   "source": [
    "env = json.loads(open(\"env.txt\", \"r\").read())\n",
    "token_url = 'https://oauth.battle.net/token'\n",
    "\n",
    "data = {'grant_type': 'client_credentials'}\n",
    "\n",
    "response = requests.post(token_url, data=data, auth=(env[\"client_identity\"], env[\"client_secret\"]))\n",
    "# conversion_file = open(\"conversions.txt\", \"w\")\n",
    "access_token = response.json().get('access_token')\n",
    "conversion_maps = {}\n"
   ]
  },
  {
   "cell_type": "code",
   "execution_count": 31,
   "metadata": {},
   "outputs": [],
   "source": [
    "def get_conversion_dict(access_token, id):\n",
    "\tapi_url = f\"https://us.api.blizzard.com/hearthstone/cards?locale=en_US&set=descent-of-dragons\"\n",
    "\theaders = {'Authorization': f'Bearer {access_token}'}\n",
    "\n",
    "\tresponse = requests.get(api_url, headers=headers)\n",
    "\tresponse_map = {}\n",
    "\tif response.status_code == 200:\n",
    "\t\tresponse_json = response.json()\n",
    "\telse:\n",
    "\t\tprint(f\"Error: {response.status_code} - {response.text}\")\n",
    "\t\treturn None\n",
    "\treturn response_json"
   ]
  },
  {
   "cell_type": "code",
   "execution_count": 32,
   "metadata": {},
   "outputs": [
    {
     "data": {
      "text/plain": [
       "75507"
      ]
     },
     "execution_count": 32,
     "metadata": {},
     "output_type": "execute_result"
    }
   ],
   "source": [
    "output = open(\"set_description.json\", \"w\")\n",
    "output.write(json.dumps(get_conversion_dict(access_token,1858),indent=4))"
   ]
  }
 ],
 "metadata": {
  "kernelspec": {
   "display_name": "Python 3",
   "language": "python",
   "name": "python3"
  },
  "language_info": {
   "codemirror_mode": {
    "name": "ipython",
    "version": 3
   },
   "file_extension": ".py",
   "mimetype": "text/x-python",
   "name": "python",
   "nbconvert_exporter": "python",
   "pygments_lexer": "ipython3",
   "version": "3.8.10"
  }
 },
 "nbformat": 4,
 "nbformat_minor": 2
}
