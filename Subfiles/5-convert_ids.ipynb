{
 "cells": [
  {
   "cell_type": "code",
   "execution_count": 1,
   "metadata": {},
   "outputs": [],
   "source": [
    "import json\n",
    "import requests\n",
    "import os"
   ]
  },
  {
   "cell_type": "code",
   "execution_count": 4,
   "metadata": {},
   "outputs": [
    {
     "data": {
      "text/plain": [
       "1637266"
      ]
     },
     "execution_count": 4,
     "metadata": {},
     "output_type": "execute_result"
    }
   ],
   "source": [
    "all_cards = json.loads(open(\"../JsonFiles/all_cards.json\", \"r\").read())\n",
    "all_cards_raw = json.loads(open(\"../JsonFiles/all_cards.txt\", \"r\").read())\n",
    "id_conversion = json.loads(open(\"../JsonFiles/id_conversions.json\", \"r\").read())\n",
    "done_cards = {}\n",
    "for card_name in all_cards.keys():\n",
    "\tcurrent_card = all_cards[card_name]\n",
    "\tif current_card['cardTypeId'] not in [4]:\n",
    "\t\tcontinue\n",
    "\tnew_card = {}\n",
    "\tclass_ids = []\n",
    "\tif current_card['classId'] is not None:\n",
    "\t\tclass_ids.extend([current_card['classId']])\n",
    "\tclass_ids.extend(current_card['multiClassIds'])\n",
    "\tclass_ids = set(class_ids)\n",
    "\tif len(class_ids) > 1:\n",
    "\t\ttry:\n",
    "\t\t\tclass_ids.remove(12) # Remove neutral if multiclass\n",
    "\t\texcept:\n",
    "\t\t\tpass\n",
    "\t# print(class_ids, current_card)\n",
    "\tconverted_classes = [id_conversion['classId'][str(id)] for id in class_ids]\n",
    "\tnew_card['classes'] = converted_classes\n",
    "\tnew_card['name'] = current_card['name']\n",
    "\tnew_card['cardType'] = id_conversion['cardTypeId'][str(current_card['cardTypeId'])]\n",
    "\tnew_card['manaCost'] = current_card['manaCost']\n",
    "\tnew_card['rarity'] = id_conversion['rarityId'][str(current_card['rarityId'])]\n",
    "\tnew_card['set'] = id_conversion['sets'][str(current_card['cardSetId'])]\n",
    "\tnew_card[\"spellSchool\"] = id_conversion['spellSchoolId'].get(f\"{all_cards_raw[str(current_card['id'])].get('spellSchoolId')}\")\n",
    "\tnew_card[\"minionType\"] = id_conversion['minionTypeId'].get(f\"{all_cards_raw[str(current_card['id'])].get('minionTypeId')}\")\n",
    "\tnew_card['power'] = all_cards_raw[str(current_card['id'])].get('attack')\n",
    "\tnew_card['toughness'] = all_cards_raw[str(current_card['id'])].get('health')\n",
    "\tnew_card['image'] = current_card['image']\n",
    "\tdone_cards[card_name] = new_card\n",
    "outfile = open(\"../JsonFiles/final_cards.json\", \"w\")\n",
    "outfile.write(json.dumps(done_cards, indent=4))\n"
   ]
  },
  {
   "cell_type": "code",
   "execution_count": null,
   "metadata": {},
   "outputs": [],
   "source": []
  }
 ],
 "metadata": {
  "kernelspec": {
   "display_name": "Python 3",
   "language": "python",
   "name": "python3"
  },
  "language_info": {
   "codemirror_mode": {
    "name": "ipython",
    "version": 3
   },
   "file_extension": ".py",
   "mimetype": "text/x-python",
   "name": "python",
   "nbconvert_exporter": "python",
   "pygments_lexer": "ipython3",
   "version": "3.8.10"
  }
 },
 "nbformat": 4,
 "nbformat_minor": 2
}
