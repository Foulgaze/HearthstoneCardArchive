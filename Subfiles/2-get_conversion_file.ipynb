{
 "cells": [
  {
   "cell_type": "code",
   "execution_count": 5,
   "metadata": {},
   "outputs": [],
   "source": [
    "import json\n",
    "import requests\n",
    "import datetime\n",
    "import time"
   ]
  },
  {
   "cell_type": "code",
   "execution_count": 6,
   "metadata": {},
   "outputs": [],
   "source": [
    "env = json.loads(open(\"../env.txt\", \"r\").read())\n",
    "token_url = 'https://oauth.battle.net/token'\n",
    "\n",
    "data = {'grant_type': 'client_credentials'}\n",
    "\n",
    "response = requests.post(token_url, data=data, auth=(env[\"client_identity\"], env[\"client_secret\"]))\n",
    "access_token = response.json().get('access_token')\n",
    "conversion_maps = {}\n"
   ]
  },
  {
   "cell_type": "code",
   "execution_count": null,
   "metadata": {},
   "outputs": [],
   "source": [
    "def get_conversion_dict(access_token, parameter):\n",
    "\tapi_url = f\"https://us.api.blizzard.com/hearthstone/metadata/{parameter}?locale=en_US\"\n",
    "\theaders = {'Authorization': f'Bearer {access_token}'}\n",
    "\n",
    "\tresponse = requests.get(api_url, headers=headers)\n",
    "\tresponse_map = {}\n",
    "\tif response.status_code == 200:\n",
    "\t\tresponse_json = response.json()\n",
    "\t\tfor response in response_json:\n",
    "\t\t\tresponse_map[int(response[\"id\"])] = response[\"name\"]\n",
    "\telse:\n",
    "\t\tprint(f\"Error: {response.status_code} - {response.text}\")\n",
    "\t\treturn None\n",
    "\treturn response_map"
   ]
  },
  {
   "cell_type": "code",
   "execution_count": null,
   "metadata": {},
   "outputs": [
    {
     "name": "stdout",
     "output_type": "stream",
     "text": [
      "{1: 'Death Knight', 14: 'Demon Hunter', 2: 'Druid', 3: 'Hunter', 4: 'Mage', 5: 'Paladin', 6: 'Priest', 7: 'Rogue', 8: 'Shaman', 9: 'Warlock', 10: 'Warrior', 12: 'Neutral'}\n",
      "{1: 'Common', 2: 'Free', 3: 'Rare', 4: 'Epic', 5: 'Legendary'}\n",
      "{1: 'Taunt', 2: 'Spell Damage', 3: 'Divine Shield', 4: 'Charge', 5: 'Secret', 6: 'Stealth', 8: 'Battlecry', 10: 'Freeze', 11: 'Windfury', 12: 'Deathrattle', 13: 'Combo', 14: 'Overload: X', 15: 'Silence', 16: 'Counter', 17: 'Immune', 19: 'Spare Parts', 20: 'Inspire', 21: 'Discover', 31: 'Quest', 32: 'Poisonous', 34: 'Adapt', 38: 'Lifesteal', 39: 'Recruit', 52: 'Echo', 53: 'Rush', 61: 'Overkill', 64: 'Start of Game', 66: 'Magnetic', 71: 'Lackey', 76: 'Twinspell', 77: 'Mega-Windfury', 78: 'Reborn', 79: 'Invoke', 86: 'Outcast', 88: 'Spellburst', 89: 'Sidequest', 91: 'Corrupt', 96: 'Questline', 97: 'Tradeable', 99: 'Frenzy', 100: 'Honorable Kill', 104: 'Nature Spell Damage', 109: 'Blood Gem', 196: 'Refresh', 198: 'Avenge (X)', 231: 'Colossal +X', 232: 'Dredge', 234: 'Spellcraft', 238: 'Infuse', 247: 'Corpse', 255: 'Finale', 256: 'Overheal', 257: 'Manathirst (X)', 261: 'Venomous', 265: 'Elusive', 266: 'Forge', 270: 'Titan', 294: 'Miniaturize', 295: 'Mini', 297: 'Quickdraw', 298: 'Excavate', 300: 'Pass', 303: 'Buddy', 318: 'Imbue', 319: 'Dark Gift', 320: 'Temporary', 323: 'Starship'}\n",
      "{1: 'Blood Elf', 2: 'Draenei', 3: 'Dwarf', 4: 'Gnome', 6: 'Human', 7: 'Night Elf', 8: 'Orc', 9: 'Tauren', 10: 'Troll', 11: 'Undead', 14: 'Murloc', 15: 'Demon', 17: 'Mech', 18: 'Elemental', 20: 'Beast', 21: 'Totem', 23: 'Pirate', 24: 'Dragon', 26: 'All', 43: 'Quilboar', 88: 'Half-Orc', 92: 'Naga', 93: 'Old God', 94: 'Pandaren', 95: 'Gronn'}\n",
      "{1: 'Arcane', 2: 'Fire', 3: 'Frost', 4: 'Nature', 5: 'Holy', 6: 'Shadow', 7: 'Fel', 11: 'Lesser', 12: 'Greater'}\n",
      "{3: 'Hero', 4: 'Minion', 5: 'Spell', 7: 'Weapon', 10: 'HeroPower', 39: 'Location', 40: 'Reward', 44: 'Trinket'}\n",
      "{1946: 'Into the Emerald Dream', 1935: 'The Great Dark Beyond', 1905: 'Perils in Paradise', 1897: \"Whizbang's Workshop\", 1941: 'Event', 1892: 'Showdown in the Badlands', 1858: 'TITANS', 1809: 'Festival of Legends', 1898: 'Caverns of Time', 1776: 'March of the Lich King', 1869: 'Path of Arthas', 1691: 'Murder at Castle Nathria', 1646: 'Classic Cards', 1658: 'Voyage to the Sunken City', 1626: 'Fractured in Alterac Valley', 1578: 'United in Stormwind', 1525: 'Forged in the Barrens', 1466: 'Madness at the Darkmoon Faire', 1443: 'Scholomance Academy', 1414: 'Ashes of Outland', 1463: 'Demon Hunter Initiate', 1403: 'Galakrond’s Awakening', 1347: 'Descent of Dragons', 1158: 'Saviors of Uldum', 1130: 'Rise of Shadows', 1129: 'Rastakhan’s Rumble', 1127: 'The Boomsday Project', 1125: 'The Witchwood', 1004: 'Kobolds and Catacombs', 1001: 'Knights of the Frozen Throne', 27: 'Journey to Un’Goro', 25: 'Mean Streets of Gadgetzan', 23: 'One Night in Karazhan', 21: 'Whispers of the Old Gods', 20: 'League of Explorers', 15: 'The Grand Tournament', 14: 'Blackrock Mountain', 13: 'Goblins vs Gnomes', 12: 'Curse of Naxxramas', 1635: 'Legacy', 1637: 'Core'}\n",
      "{'classId': {1: 'Death Knight', 14: 'Demon Hunter', 2: 'Druid', 3: 'Hunter', 4: 'Mage', 5: 'Paladin', 6: 'Priest', 7: 'Rogue', 8: 'Shaman', 9: 'Warlock', 10: 'Warrior', 12: 'Neutral'}, 'rarityId': {1: 'Common', 2: 'Free', 3: 'Rare', 4: 'Epic', 5: 'Legendary'}, 'keywordIds': {1: 'Taunt', 2: 'Spell Damage', 3: 'Divine Shield', 4: 'Charge', 5: 'Secret', 6: 'Stealth', 8: 'Battlecry', 10: 'Freeze', 11: 'Windfury', 12: 'Deathrattle', 13: 'Combo', 14: 'Overload: X', 15: 'Silence', 16: 'Counter', 17: 'Immune', 19: 'Spare Parts', 20: 'Inspire', 21: 'Discover', 31: 'Quest', 32: 'Poisonous', 34: 'Adapt', 38: 'Lifesteal', 39: 'Recruit', 52: 'Echo', 53: 'Rush', 61: 'Overkill', 64: 'Start of Game', 66: 'Magnetic', 71: 'Lackey', 76: 'Twinspell', 77: 'Mega-Windfury', 78: 'Reborn', 79: 'Invoke', 86: 'Outcast', 88: 'Spellburst', 89: 'Sidequest', 91: 'Corrupt', 96: 'Questline', 97: 'Tradeable', 99: 'Frenzy', 100: 'Honorable Kill', 104: 'Nature Spell Damage', 109: 'Blood Gem', 196: 'Refresh', 198: 'Avenge (X)', 231: 'Colossal +X', 232: 'Dredge', 234: 'Spellcraft', 238: 'Infuse', 247: 'Corpse', 255: 'Finale', 256: 'Overheal', 257: 'Manathirst (X)', 261: 'Venomous', 265: 'Elusive', 266: 'Forge', 270: 'Titan', 294: 'Miniaturize', 295: 'Mini', 297: 'Quickdraw', 298: 'Excavate', 300: 'Pass', 303: 'Buddy', 318: 'Imbue', 319: 'Dark Gift', 320: 'Temporary', 323: 'Starship'}, 'minionTypeId': {1: 'Blood Elf', 2: 'Draenei', 3: 'Dwarf', 4: 'Gnome', 6: 'Human', 7: 'Night Elf', 8: 'Orc', 9: 'Tauren', 10: 'Troll', 11: 'Undead', 14: 'Murloc', 15: 'Demon', 17: 'Mech', 18: 'Elemental', 20: 'Beast', 21: 'Totem', 23: 'Pirate', 24: 'Dragon', 26: 'All', 43: 'Quilboar', 88: 'Half-Orc', 92: 'Naga', 93: 'Old God', 94: 'Pandaren', 95: 'Gronn'}, 'spellSchoolId': {1: 'Arcane', 2: 'Fire', 3: 'Frost', 4: 'Nature', 5: 'Holy', 6: 'Shadow', 7: 'Fel', 11: 'Lesser', 12: 'Greater'}, 'cardTypeId': {3: 'Hero', 4: 'Minion', 5: 'Spell', 7: 'Weapon', 10: 'HeroPower', 39: 'Location', 40: 'Reward', 44: 'Trinket'}, 'sets': {1946: 'Into the Emerald Dream', 1935: 'The Great Dark Beyond', 1905: 'Perils in Paradise', 1897: \"Whizbang's Workshop\", 1941: 'Event', 1892: 'Showdown in the Badlands', 1858: 'TITANS', 1809: 'Festival of Legends', 1898: 'Caverns of Time', 1776: 'March of the Lich King', 1869: 'Path of Arthas', 1691: 'Murder at Castle Nathria', 1646: 'Classic Cards', 1658: 'Voyage to the Sunken City', 1626: 'Fractured in Alterac Valley', 1578: 'United in Stormwind', 1525: 'Forged in the Barrens', 1466: 'Madness at the Darkmoon Faire', 1443: 'Scholomance Academy', 1414: 'Ashes of Outland', 1463: 'Demon Hunter Initiate', 1403: 'Galakrond’s Awakening', 1347: 'Descent of Dragons', 1158: 'Saviors of Uldum', 1130: 'Rise of Shadows', 1129: 'Rastakhan’s Rumble', 1127: 'The Boomsday Project', 1125: 'The Witchwood', 1004: 'Kobolds and Catacombs', 1001: 'Knights of the Frozen Throne', 27: 'Journey to Un’Goro', 25: 'Mean Streets of Gadgetzan', 23: 'One Night in Karazhan', 21: 'Whispers of the Old Gods', 20: 'League of Explorers', 15: 'The Grand Tournament', 14: 'Blackrock Mountain', 13: 'Goblins vs Gnomes', 12: 'Curse of Naxxramas', 1635: 'Legacy', 1637: 'Core'}}\n"
     ]
    }
   ],
   "source": [
    "# Things we care about: CLASS ID, Keyword, Rarity, Set Release, MinionType / Spell School, Type, Mana cost, Release Year\n",
    "conversion_maps[\"classId\"] = get_conversion_dict(access_token, \"classes\")\n",
    "conversion_maps[\"rarityId\"] = get_conversion_dict(access_token, \"rarities\")\n",
    "conversion_maps[\"keywordIds\"] = get_conversion_dict(access_token, \"keywords\")\n",
    "conversion_maps[\"minionTypeId\"] = get_conversion_dict(access_token, \"minionTypes\")\n",
    "conversion_maps[\"spellSchoolId\"] = get_conversion_dict(access_token, \"spellSchools\")\n",
    "conversion_maps[\"cardTypeId\"] = get_conversion_dict(access_token, \"types\")\n",
    "conversion_maps[\"sets\"] = get_conversion_dict(access_token, \"sets\")\n",
    "with open(\"../JsonFiles/id_conversions.json\", \"w\") as outfile:\n",
    "\toutfile.write(json.dumps(conversion_maps, indent=4))"
   ]
  }
 ],
 "metadata": {
  "kernelspec": {
   "display_name": "Python 3",
   "language": "python",
   "name": "python3"
  },
  "language_info": {
   "codemirror_mode": {
    "name": "ipython",
    "version": 3
   },
   "file_extension": ".py",
   "mimetype": "text/x-python",
   "name": "python",
   "nbconvert_exporter": "python",
   "pygments_lexer": "ipython3",
   "version": "3.8.10"
  }
 },
 "nbformat": 4,
 "nbformat_minor": 2
}
