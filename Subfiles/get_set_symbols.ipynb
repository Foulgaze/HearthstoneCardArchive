{
 "cells": [
  {
   "cell_type": "code",
   "execution_count": 56,
   "metadata": {},
   "outputs": [],
   "source": [
    "import requests\n",
    "import json\n",
    "import re"
   ]
  },
  {
   "cell_type": "code",
   "execution_count": 57,
   "metadata": {},
   "outputs": [],
   "source": [
    "def get_image_from_page(text):\n",
    "\n",
    "\tregex = re.compile(\"\\/images\\/.*?_-_SVG_logo\\.svg\")\n",
    "\tmatch = re.search(regex, text)\n",
    "\tif match is None:\n",
    "\t\tprint(\"Couldn't find match\")\n",
    "\t\treturn None\n",
    "\timage_url = match.group(0)\n",
    "\tsvg_page = requests.get(f\"https://hearthstone.wiki.gg{image_url}\")\n",
    "\tif svg_page.status_code != 200:\n",
    "\t\tprint(\"Couldn't load from \", image_url)\n",
    "\t\treturn None\n",
    "\treturn svg_page.text"
   ]
  },
  {
   "cell_type": "code",
   "execution_count": 58,
   "metadata": {},
   "outputs": [
    {
     "name": "stdout",
     "output_type": "stream",
     "text": [
      "Could not load set from Classic_Cards\n"
     ]
    }
   ],
   "source": [
    "conversion_data = json.loads(open(\"id_conversions.json\", \"r\").read())\n",
    "for key in conversion_data[\"cardSetId\"]:\n",
    "\tcard_name = conversion_data[\"cardSetId\"][key]\n",
    "\tcard_name = card_name.replace(\" \", \"_\").replace('’', \"'\")\n",
    "\t\n",
    "\t# card_image = requests.get(f\"https://hearthstone.wiki.gg/images/e/e6/{card_name}-_SVG_logo.svg\")\n",
    "\timage_page = requests.get(f\"https://hearthstone.wiki.gg/wiki/{card_name}#/media/File:{card_name}_-_SVG_logo.svg\")\n",
    "\tif image_page.status_code != 200:\n",
    "\t\tprint(f\"Could not load set from {card_name}\")\n",
    "\telse:\n",
    "\t\tsvg_text = get_image_from_page(image_page.text)\n",
    "\t\tif svg_text is None:\n",
    "\t\t\tprint(\"Error finding \", card_name)\n",
    "\t\t\tcontinue\n",
    "\t\toutfile = open(f\"SetIcons/{card_name}.svg\", \"w\")\n",
    "\t\toutfile.write(svg_text)\n"
   ]
  },
  {
   "cell_type": "code",
   "execution_count": null,
   "metadata": {},
   "outputs": [],
   "source": []
  }
 ],
 "metadata": {
  "kernelspec": {
   "display_name": "Python 3",
   "language": "python",
   "name": "python3"
  },
  "language_info": {
   "codemirror_mode": {
    "name": "ipython",
    "version": 3
   },
   "file_extension": ".py",
   "mimetype": "text/x-python",
   "name": "python",
   "nbconvert_exporter": "python",
   "pygments_lexer": "ipython3",
   "version": "3.8.10"
  }
 },
 "nbformat": 4,
 "nbformat_minor": 2
}
