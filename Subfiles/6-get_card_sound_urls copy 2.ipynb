{
 "cells": [
  {
   "cell_type": "code",
   "execution_count": 2,
   "metadata": {},
   "outputs": [],
   "source": [
    "import json\n",
    "import requests\n",
    "import re\n",
    "import random\n",
    "import os"
   ]
  },
  {
   "cell_type": "code",
   "execution_count": 12,
   "metadata": {},
   "outputs": [],
   "source": [
    "def find_url_by_pattern(page_text, pattern):\n",
    "    match = re.search(pattern, page_text)\n",
    "    return match.group(0) if match else None\n",
    "\n",
    "def compile_regex_for_action(action_type):\n",
    "    # base_url_pattern = f\"https://hearthstone\\.wiki\\.gg.*?_{action_type}_[0-9][0-9]\\.wav\"\n",
    "    base_url_pattern = ''\n",
    "    return re.search(base_url_pattern, re.IGNORECASE)\n",
    "\n",
    "\n",
    "def find_urls_from_page(page_text):\n",
    "    action_types = ['Play', 'Attack', 'Death']\n",
    "    results = {}\n",
    "    next_action = None\n",
    "    search_pattern = '<source\\s+src=\"([^\"]+\\.wav(?:\\?[^\"]*)?)\"'\n",
    "    full_art = None\n",
    "    starter=\"<source src=\"\n",
    "    for line in page_text:\n",
    "        if not full_art:\n",
    "            # full_art_temp = re.search('/wiki/File:[^\"]*\\.jpg', line)\n",
    "            full_art_temp = re.search('\\/images\\/.*?_full.jpg', line)\n",
    "            full_art = full_art_temp.group(0) if full_art_temp else None\n",
    "        if next_action:\n",
    "            result = find_url_by_pattern(line, search_pattern)\n",
    "            if result:\n",
    "                results[next_action] = result[len(starter) + 1:-1]\n",
    "            next_action = None\n",
    "        for action in action_types:\n",
    "            header = f'<dl><dt>{action}</dt></dl>'\n",
    "            if line.strip() == header:\n",
    "                next_action = action\n",
    "                break\n",
    "        \n",
    "            # pattern = compile_regex_for_action(action)\n",
    "            # url = find_url_by_pattern(page_text, pattern)\n",
    "            # if url:\n",
    "            #     results[action.lower()] = url\n",
    "                \n",
    "\n",
    "    return (results if len(results) == len(action_types) else [], full_art)\n",
    "file_path = \"../JsonFiles/final_cards.json\""
   ]
  },
  {
   "cell_type": "code",
   "execution_count": 10,
   "metadata": {},
   "outputs": [],
   "source": [
    "#Retrieves data\n",
    "all_cards = json.loads(open(file_path).read())\n",
    "missed_cards = []\n",
    "not_enough_cards = []\n",
    "voicelines = []\n",
    "for i,key in enumerate(all_cards):\n",
    "\tcard_data = all_cards[key]\n",
    "\tif card_data[\"cardType\"] == \"Minion\":\n",
    "\t\tcard_name = card_data[\"name\"]\n",
    "\t\tcard_name = card_name.replace(\" \", \"_\").replace('’', \"'\")\n",
    "\t\tsave_path = f\"../HTMLPages/{card_name}.html\"\n",
    "\t\tcard_page_url = f\"https://hearthstone.wiki.gg/wiki/{card_name}\"\n",
    "\t\tif os.path.exists(save_path):\n",
    "\t\t\tcontinue\n",
    "\t\trequest = requests.get(card_page_url)\n",
    "\t\tif request.status_code != 200:\n",
    "\t\t\tmissed_cards.append(key)\n",
    "\t\telse:\n",
    "\t\t\tout = open(save_path, \"w\")\n",
    "\t\t\tout.write(request.text)\n",
    "\t\t\tcontinue\n",
    "\tif i % 500 == 0:\n",
    "\t\tprint(i)"
   ]
  },
  {
   "cell_type": "code",
   "execution_count": 22,
   "metadata": {},
   "outputs": [
    {
     "name": "stdout",
     "output_type": "stream",
     "text": [
      "0\n",
      "500\n",
      "1000\n",
      "1500\n",
      "2000\n",
      "2500\n",
      "3000\n"
     ]
    },
    {
     "data": {
      "text/plain": [
       "3047729"
      ]
     },
     "execution_count": 22,
     "metadata": {},
     "output_type": "execute_result"
    }
   ],
   "source": [
    "all_cards = json.loads(open(file_path, \"r\").read())\n",
    "missed_cards = []\n",
    "voicelines = []\n",
    "for i,key in enumerate(all_cards):\n",
    "\tcard_data = all_cards[key]\n",
    "\tif card_data[\"cardType\"] == \"Minion\":\n",
    "\t\tcard_name = card_data[\"name\"]\n",
    "\t\tcard_name = card_name.replace(\" \", \"_\").replace('’', \"'\")\n",
    "\t\t# try:\n",
    "\t\tpage_text = open(f\"../HTMLPages/{card_name}.html\").readlines()\n",
    "\t\t(voicelines, full_art) = find_urls_from_page(page_text)\n",
    "\t\tif full_art:\n",
    "\t\t\tfull_art = full_art[:8] + full_art[8+6:]\n",
    "\t\t\tfull_art_url = f\"https://hearthstone.wiki.gg{full_art}\"\n",
    "\t\t# print(voicelines)\n",
    "\t\tcard_data[\"voicelines\"] = voicelines\n",
    "\t\tcard_data[\"fullArt\"] = full_art_url\n",
    "\t\t# except:\n",
    "\t\t# \tpass\n",
    "\tif i % 500 == 0:\n",
    "\t\tprint(i)\n",
    "for card_name in list(all_cards.keys()):\n",
    "\tif len(all_cards[card_name]['voicelines']) == 0:\n",
    "\t\tprint(card_name)\n",
    "\t\tdel all_cards[card_name]\n",
    "outfile = open(file_path, \"w\")\n",
    "outfile.write(json.dumps(all_cards, indent=4))"
   ]
  },
  {
   "cell_type": "code",
   "execution_count": 12,
   "metadata": {},
   "outputs": [],
   "source": [
    "# file_count = 3\n",
    "# with open(file_path, \"r\") as all_cards:\n",
    "# \tcard_names = list(json.loads(all_cards.read()).keys())\n",
    "# \tfor i in range(file_count):\n",
    "# \t\twith open(f\"../{i}-list\", \"w\") as outfile:\n",
    "# \t\t\trandom.shuffle(card_names)\n",
    "# \t\t\toutfile.write(\"\\n\".join(card_names))\n",
    "\n"
   ]
  }
 ],
 "metadata": {
  "kernelspec": {
   "display_name": "Python 3",
   "language": "python",
   "name": "python3"
  },
  "language_info": {
   "codemirror_mode": {
    "name": "ipython",
    "version": 3
   },
   "file_extension": ".py",
   "mimetype": "text/x-python",
   "name": "python",
   "nbconvert_exporter": "python",
   "pygments_lexer": "ipython3",
   "version": "3.8.10"
  }
 },
 "nbformat": 4,
 "nbformat_minor": 2
}
