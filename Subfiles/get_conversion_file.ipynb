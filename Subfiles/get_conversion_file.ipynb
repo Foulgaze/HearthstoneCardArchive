{
 "cells": [
  {
   "cell_type": "code",
   "execution_count": 1,
   "metadata": {},
   "outputs": [],
   "source": [
    "import json\n",
    "import requests\n",
    "import datetime\n",
    "import time"
   ]
  },
  {
   "cell_type": "code",
   "execution_count": null,
   "metadata": {},
   "outputs": [],
   "source": [
    "env = json.loads(open(\"../env.txt\", \"r\").read())\n",
    "token_url = 'https://oauth.battle.net/token'\n",
    "\n",
    "data = {'grant_type': 'client_credentials'}\n",
    "\n",
    "response = requests.post(token_url, data=data, auth=(env[\"client_identity\"], env[\"client_secret\"]))\n",
    "access_token = response.json().get('access_token')\n",
    "conversion_maps = {}\n"
   ]
  },
  {
   "cell_type": "code",
   "execution_count": 3,
   "metadata": {},
   "outputs": [],
   "source": [
    "def get_conversion_dict(access_token, parameter):\n",
    "\tapi_url = f\"https://us.api.blizzard.com/hearthstone/metadata/{parameter}?locale=en_US\"\n",
    "\theaders = {'Authorization': f'Bearer {access_token}'}\n",
    "\n",
    "\tresponse = requests.get(api_url, headers=headers)\n",
    "\tresponse_map = {}\n",
    "\tif response.status_code == 200:\n",
    "\t\tresponse_json = response.json()\n",
    "\t\tfor response in response_json:\n",
    "\t\t\tresponse_map[response[\"id\"]] = response[\"name\"]\n",
    "\telse:\n",
    "\t\tprint(f\"Error: {response.status_code} - {response.text}\")\n",
    "\t\treturn None\n",
    "\treturn response_map"
   ]
  },
  {
   "cell_type": "code",
   "execution_count": null,
   "metadata": {},
   "outputs": [],
   "source": [
    "# Things we care about: CLASS ID, Keyword, Rarity, Set Release, MinionType / Spell School, Type, Mana cost, Release Year\n",
    "conversion_maps[\"classId\"] = get_conversion_dict(access_token, \"classes\")\n",
    "conversion_maps[\"rarityId\"] = get_conversion_dict(access_token, \"rarities\")\n",
    "conversion_maps[\"keywordIds\"] = get_conversion_dict(access_token, \"keywords\")\n",
    "conversion_maps[\"minionTypeId\"] = get_conversion_dict(access_token, \"minionTypes\")\n",
    "conversion_maps[\"spellSchoolId\"] = get_conversion_dict(access_token, \"spellSchools\")\n",
    "conversion_maps[\"cardTypeId\"] = get_conversion_dict(access_token, \"types\")\n",
    "conversion_maps[\"sets\"] = get_conversion_dict(access_token, \"sets\")\n",
    "\n",
    "with open(\"../id_conversions.json\", \"w\") as outfile:\n",
    "\toutfile.write(json.dumps(conversion_maps, indent=4))"
   ]
  }
 ],
 "metadata": {
  "kernelspec": {
   "display_name": "Python 3",
   "language": "python",
   "name": "python3"
  },
  "language_info": {
   "codemirror_mode": {
    "name": "ipython",
    "version": 3
   },
   "file_extension": ".py",
   "mimetype": "text/x-python",
   "name": "python",
   "nbconvert_exporter": "python",
   "pygments_lexer": "ipython3",
   "version": "3.8.10"
  }
 },
 "nbformat": 4,
 "nbformat_minor": 2
}
